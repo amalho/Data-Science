{
 "cells": [
  {
   "cell_type": "markdown",
   "metadata": {},
   "source": [
    "https://lazyprogrammer.me/tutorial-principal-components-analysis-pca/"
   ]
  },
  {
   "cell_type": "code",
   "execution_count": 65,
   "metadata": {},
   "outputs": [],
   "source": [
    "#Data is a bunch of book titles one on each line\n",
    "from __future__ import print_function, division\n",
    "from builtins import range\n",
    "import nltk\n",
    "import numpy as np\n",
    "import matplotlib.pyplot as plt\n",
    "\n",
    "from nltk.stem import WordNetLemmatizer\n",
    "from sklearn.decomposition import TruncatedSVD\n"
   ]
  },
  {
   "cell_type": "code",
   "execution_count": 66,
   "metadata": {},
   "outputs": [],
   "source": [
    "wordnet_lemmatizer = WordNetLemmatizer()\n",
    "\n",
    "#Load all the book titles in an array\n",
    "titles = [line.rstrip() for line in open('all_book_titles.txt')]\n",
    "\n",
    "#Remove Stopwords\n",
    "stopwords = set(w.rstrip() for w in open('stopwords.txt'))\n",
    "#Add more stopwords\n",
    "stopwords = stopwords.union({\n",
    "    'introduction', 'edition', 'series', 'application',\n",
    "    'approach', 'card', 'access', 'package', 'plus', 'etext',\n",
    "    'brief', 'vol', 'fundamental', 'guide', 'essential', 'printed',\n",
    "    'third', 'second', 'fourth',    \n",
    "})\n"
   ]
  },
  {
   "cell_type": "code",
   "execution_count": 67,
   "metadata": {},
   "outputs": [],
   "source": [
    "#Take tokenizer from the previous example Sentiment Analyzer\n",
    "def my_tokenizer(s):\n",
    "    #Downcasing words\n",
    "    s = s.lower()\n",
    "    tokens = nltk.tokenize.word_tokenize(s)\n",
    "    #list apprehensions to keep only words >2\n",
    "    tokens = [t for t in tokens if len(t) > 2]\n",
    "    #using lemmatizer\n",
    "    tokens = [wordnet_lemmatizer.lemmatize(t) for t in tokens]\n",
    "    #remove stopwords\n",
    "    tokens = [t for t in tokens if t not in stopwords]\n",
    "    \n",
    "    #Remove any Token that contains any digits, i.e. \"3rd edition\"\n",
    "    tokens = [t for t in tokens if not any(c.isdigit() for c in t)] \n",
    "    return tokens\n",
    "    "
   ]
  },
  {
   "cell_type": "code",
   "execution_count": 68,
   "metadata": {},
   "outputs": [],
   "source": [
    "#To figure out the index of each word by going through the entire Vocabulary\n",
    "word_index_map = {}\n",
    "current_index = 0\n",
    "all_tokens = []\n",
    "all_titles = []\n",
    "#Need a map back from index to word\n",
    "index_word_map = []\n",
    "\n",
    "for title in titles:\n",
    "    #Try to encode invalid codes in ASCII\n",
    "    try:\n",
    "        title = title.encode('ascii','ignore').decode('utf-8')\n",
    "        all_titles.append(title)\n",
    "        #We are calling the my_tokenizer function\n",
    "        tokens = my_tokenizer(title)\n",
    "        all_tokens.append(tokens)\n",
    "        for token in tokens:\n",
    "            if token not in word_index_map:\n",
    "                word_index_map[token] = current_index\n",
    "                current_index += 1\n",
    "                index_word_map.append(token)\n",
    "    except:\n",
    "        pass\n",
    "    \n",
    "    \n",
    "          "
   ]
  },
  {
   "cell_type": "code",
   "execution_count": 69,
   "metadata": {},
   "outputs": [],
   "source": [
    "#Copy tokens_to_vector() from Sentiment Analyzer\n",
    "#But here there is no label and hence it's an unsupervised learning\n",
    "def tokens_to_vector(tokens):\n",
    "    x = np.zeros(len(word_index_map))\n",
    "    for t in tokens:\n",
    "        i = word_index_map[t]\n",
    "        #We are going to use in the care functions i.e. binary 1 or 0\n",
    "        x[i] = 1    \n",
    "    return x\n",
    "\n",
    "N = len(all_tokens)\n",
    "D = len(word_index_map)\n",
    "#Initialize our data array i.e. D X N\n",
    "X = np.zeros((D, N))\n",
    "i = 0\n",
    "for tokens in all_tokens:\n",
    "    X[:,i] = tokens_to_vector(tokens)\n",
    "    i += 1\n",
    "      \n",
    "    "
   ]
  },
  {
   "cell_type": "code",
   "execution_count": 71,
   "metadata": {},
   "outputs": [
    {
     "data": {
      "image/png": "[encoded data removed]",
      "text/plain": [
       "<matplotlib.figure.Figure at 0x1d6d77c55c0>"
      ]
     },
     "metadata": {},
     "output_type": "display_data"
    }
   ],
   "source": [
    "# Initialize the SVD object\n",
    "svd = TruncatedSVD()\n",
    "#Do fit and transform in the same step\n",
    "Z = svd.fit_transform(X)\n",
    "#Plot data on 2D plane\n",
    "plt.scatter(Z[:,0], Z[:,1])\n",
    "for i in range(D):\n",
    "    #At each point spell out the word\n",
    "    plt.annotate(s = index_word_map[i], xy = [Z[i,0], Z[i,1]])\n",
    "plt.show()\n",
    "\n",
    "\n",
    "\n"
   ]
  },
  {
   "cell_type": "code",
   "execution_count": null,
   "metadata": {},
   "outputs": [],
   "source": [
    "#LSA reduced the dimensionality to two"
   ]
  }
 ],
 "metadata": {
  "kernelspec": {
   "display_name": "Python 3",
   "language": "python",
   "name": "python3"
  },
  "language_info": {
   "codemirror_mode": {
    "name": "ipython",
    "version": 3
   },
   "file_extension": ".py",
   "mimetype": "text/x-python",
   "name": "python",
   "nbconvert_exporter": "python",
   "pygments_lexer": "ipython3",
   "version": "3.6.4"
  }
 },
 "nbformat": 4,
 "nbformat_minor": 2
}
