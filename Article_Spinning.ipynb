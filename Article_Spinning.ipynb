{
 "cells": [
  {
   "cell_type": "markdown",
   "metadata": {},
   "source": [
    "# Article Spinner"
   ]
  },
  {
   "cell_type": "code",
   "execution_count": 42,
   "metadata": {},
   "outputs": [],
   "source": [
    "import nltk\n",
    "#For random number generation and probabilities\n",
    "import random\n",
    "import numpy\n",
    "#For xml parser\n",
    "from bs4 import BeautifulSoup\n",
    "from future.utils import iteritems"
   ]
  },
  {
   "cell_type": "code",
   "execution_count": 43,
   "metadata": {},
   "outputs": [],
   "source": [
    "#Load Positive reviews\n",
    "positive_reviews = BeautifulSoup(open('electronics/positive.review').read(), \"lxml\")\n",
    "positive_reviews = positive_reviews.findAll('review_text')\n",
    "\n",
    "#Step 1 is to create Trigrams\n",
    "#Create a dictionary and remember key is previous and next word\n",
    "trigrams = {}\n",
    "for review in positive_reviews:\n",
    "    #Lowercase the reviews\n",
    "    s = review.text.lower()\n",
    "    tokens = nltk.tokenize.word_tokenize(s)\n",
    "    #Only count from zero to the third last word\n",
    "    for i in range(len(tokens) - 2):\n",
    "        #Keys are tuples and they are immutable and list cannot\n",
    "        k = (tokens[i], tokens[i+2])\n",
    "        if k not in trigrams:\n",
    "            #Initialize it to an array\n",
    "            trigrams[k] = []\n",
    "        trigrams[k].append(tokens[i+1])   \n",
    "        "
   ]
  },
  {
   "cell_type": "code",
   "execution_count": 44,
   "metadata": {},
   "outputs": [],
   "source": [
    "#Need to tranform these into a probability vector:\n",
    "#Create another dictionary:\n",
    "trigram_probabilities = {}\n",
    "for k, words in iteritems(trigrams):\n",
    "    if len(set(words)) > 1:\n",
    "        #Create another dictionary\n",
    "        d = {}\n",
    "        n = 0\n",
    "        #Use Maximum Likelihood Estimate\n",
    "        for w in words:\n",
    "            if w not in d:\n",
    "                d[w] = 0\n",
    "            d[w] += 1\n",
    "            n += 1\n",
    "        for w,c in iteritems(d):\n",
    "            #convert these into probabilities\n",
    "            d[w] = float(c) / n\n",
    "        trigram_probabilities[k] = d\n",
    "        \n",
    "            "
   ]
  },
  {
   "cell_type": "code",
   "execution_count": 45,
   "metadata": {},
   "outputs": [],
   "source": [
    "#Create a function to randomly sample from these trigram probabilities:\n",
    "#takes the argument as dictionary:\n",
    "def random_sample(d):\n",
    "    r = random.random()\n",
    "    #Keep a track of the cumulative probability\n",
    "    cumulative = 0\n",
    "    for w,p in iteritems(d):\n",
    "        cumulative += p\n",
    "        if r < cumulative:\n",
    "            return w\n",
    "        \n",
    "    "
   ]
  },
  {
   "cell_type": "code",
   "execution_count": 48,
   "metadata": {},
   "outputs": [],
   "source": [
    "#Create a function just to test the spinner:\n",
    "# It's going to randomly choose a review and try to spin it\n",
    "def test_spinner():\n",
    "    review = random.choice(positive_reviews)\n",
    "    s = review.text.lower()\n",
    "    print(\"Original:\", s)\n",
    "    #Now tokenize it\n",
    "    tokens = nltk.tokenize.word_tokenize(s)\n",
    "    #Loop through each token and choose with the small probability to replace:\n",
    "    for i in range(len(tokens) - 2):\n",
    "        if random.random() < 0.2:\n",
    "            k = (tokens[i], tokens[i+2])\n",
    "            if k in trigram_probabilities:\n",
    "                w = random_sample(trigram_probabilities[k])\n",
    "                tokens[i+1] = w\n",
    "    print(\"Spun:\")  \n",
    "    #Replace as nltk tries to tokenize punctuation as well\n",
    "    print(\" \".join(tokens).replace(\" .\",\".\").replace(\" '\",\"'\").replace(\" ,\",\",\").replace(\"$ \",\"$\").replace(\" !\",\"!\"))\n",
    "    \n",
    "    \n",
    "    \n",
    "            \n",
    "    "
   ]
  },
  {
   "cell_type": "code",
   "execution_count": 51,
   "metadata": {
    "scrolled": true
   },
   "outputs": [
    {
     "name": "stdout",
     "output_type": "stream",
     "text": [
      "Original: \n",
      "i was surprised at the sound quality of this small speaker system.  i purchased it to use in my bedroom on my nightstand and am very pleased.  you can hear the music in several other rooms if the volume is turned up, without distortion.\n",
      "\n",
      "i am very pleased with my purchase and would recommend the speaker system to others\n",
      "\n",
      "Spun:\n",
      "i was surprised at the sounds quality of this small speaker system. i purchased it to use in my bedroom on my nightstand and am very pleased. you can hear the music in several other rooms if the volume is turned up, without problem. i am very happy with my purchase and would recommend the speaker system to others\n"
     ]
    }
   ],
   "source": [
    "test_spinner()"
   ]
  },
  {
   "cell_type": "markdown",
   "metadata": {},
   "source": [
    " www.udemy.com/data-science-logistic-regression-in-python"
   ]
  },
  {
   "cell_type": "markdown",
   "metadata": {},
   "source": [
    "www.udemy.com/data-science-deep-learning-in-python"
   ]
  }
 ],
 "metadata": {
  "kernelspec": {
   "display_name": "Python 3",
   "language": "python",
   "name": "python3"
  },
  "language_info": {
   "codemirror_mode": {
    "name": "ipython",
    "version": 3
   },
   "file_extension": ".py",
   "mimetype": "text/x-python",
   "name": "python",
   "nbconvert_exporter": "python",
   "pygments_lexer": "ipython3",
   "version": "3.6.4"
  }
 },
 "nbformat": 4,
 "nbformat_minor": 2
}
